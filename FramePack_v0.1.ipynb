{
 "cells": [
  {
   "cell_type": "code",
   "execution_count": null,
   "id": "eed70b53-84e8-470b-8adf-665cb8878002",
   "metadata": {},
   "outputs": [],
   "source": [
    "!git clone https://github.com/simsim314/FramePack.git\n",
    "%cd FramePack\n",
    "!pip install -r requirements.txt\n",
    "!pip install torchvision==0.21.0+cu124 \\\n",
    "  --extra-index-url https://download.pytorch.org/whl/cu124\n",
    "!pip install sageattention==1.0.6\n",
    "!pip install xformers==0.0.29.post3 \\\n",
    "  --no-deps \\\n",
    "  -f https://download.pytorch.org/whl/cu124/xformers.html\n",
    "!pip install flash-attn \n"
   ]
  },
  {
   "cell_type": "code",
   "execution_count": null,
   "id": "02111442-c58c-4df1-acdd-aeb0daf404c3",
   "metadata": {},
   "outputs": [],
   "source": [
    "!python demo_gradio.py"
   ]
  }
 ],
 "metadata": {
  "kernelspec": {
   "display_name": "Python 3 (ipykernel)",
   "language": "python",
   "name": "python3"
  },
  "language_info": {
   "codemirror_mode": {
    "name": "ipython",
    "version": 3
   },
   "file_extension": ".py",
   "mimetype": "text/x-python",
   "name": "python",
   "nbconvert_exporter": "python",
   "pygments_lexer": "ipython3",
   "version": "3.8.10"
  }
 },
 "nbformat": 4,
 "nbformat_minor": 5
}
